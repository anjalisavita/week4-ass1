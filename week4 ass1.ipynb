{
 "cells": [
  {
   "cell_type": "markdown",
   "id": "e9f39d2c-4161-470b-99f3-d50f2b011e2d",
   "metadata": {
    "tags": []
   },
   "source": [
    "# Q1, Create a vehicle class with an init method having instance variables as name_of_vehicle, max_speed\n",
    "# and average_of_vehicle.\n"
   ]
  },
  {
   "cell_type": "markdown",
   "id": "13ef4789-5bec-4a8c-9c6e-a605f431c137",
   "metadata": {},
   "source": [
    " # ANSWER-1\n",
    "    class Vehicle:\n",
    "    def __init__(self, name_of_vehicle, max_speed, average_speed):\n",
    "        self.name_of_vehicle = name_of_vehicle\n",
    "        self.max_speed = max_speed\n",
    "        self.average_speed = average_speed\n",
    "\n",
    "    def display_info(self):\n",
    "        return f\"Vehicle Name: {self.name_of_vehicle}, Max Speed: {self.max_speed} km/h, Average Speed: {self.average_speed} km/h\"\n",
    "\n",
    "\n",
    "# Example usage:\n",
    "car = Vehicle(\"Car Model X\", 200, 120)\n",
    "print(car.display_info()) \n",
    "# Output: Vehicle Name: Car Model X, Max Speed: 200 km/h, Average Speed: 120 km/h\n"
   ]
  },
  {
   "cell_type": "markdown",
   "id": "46484c8f-4ab1-43fb-ace2-7882bc0a7d62",
   "metadata": {},
   "source": [
    "# Q2. Create a child class car from the vehicle class created in Que 1, which will inherit the vehicle class."
   ]
  },
  {
   "cell_type": "markdown",
   "id": "4661c055-5475-4ddc-adb2-eb3b8182abae",
   "metadata": {},
   "source": [
    "# answer-2 \n",
    "class Vehicle:\n",
    "    def __init__(self, name, max_speed):\n",
    "        self.name = name\n",
    "        self.max_speed = max_speed\n",
    "\n",
    "    def display_info(self):\n",
    "        return f\"Vehicle Name: {self.name}, Max Speed: {self.max_speed} km/h\"\n"
   ]
  },
  {
   "cell_type": "markdown",
   "id": "48d0beef-dfe4-46d3-a50d-c39599898502",
   "metadata": {},
   "source": [
    "# Q3. What is multiple inheritance? Write a python code to demonstrate multiple inheritance."
   ]
  },
  {
   "cell_type": "markdown",
   "id": "faaa4088-989e-4d88-9cf1-c22873f09beb",
   "metadata": {},
   "source": [
    "# answer-3 \n",
    "class A:\n",
    "    def method_A(self):\n",
    "        return \"Method A from class A\"\n",
    "\n",
    "\n",
    "class B:\n",
    "    def method_B(self):\n",
    "        return \"Method B from class B\"\n",
    "\n",
    "\n",
    "class C(A, B):\n",
    "    def method_C(self):\n",
    "        return \"Method C from class C\"\n",
    "\n",
    "\n",
    "obj = C()\n",
    "print(obj.method_A())  # Output: Method A from class A\n",
    "print(obj.method_B())  # Output: Method B from class B\n",
    "print(obj.method_C())  # Output: Method C from class C\n"
   ]
  },
  {
   "cell_type": "markdown",
   "id": "149568f4-b149-4aa0-a928-694d4b31e0e5",
   "metadata": {},
   "source": [
    "# Q4. What are getter and setter in python? Create a class and create a getter and a setter method in this class."
   ]
  },
  {
   "cell_type": "markdown",
   "id": "3326bdb0-a7d5-4d92-b2ca-1eec63cee0e9",
   "metadata": {},
   "source": [
    "# ANSWER-4\n",
    "class Example:\n",
    "    def __init__(self):\n",
    "        self._value = 0\n",
    "\n",
    "    def get_value(self):\n",
    "        return self._value\n",
    "\n",
    "    def set_value(self, new_value):\n",
    "        self._value = new_value\n",
    "\n",
    "\n",
    "obj = Example()\n",
    "print(obj.get_value())  # Output: 0\n",
    "obj.set_value(5)\n",
    "print(obj.get_value())  # Output: 5\n"
   ]
  },
  {
   "cell_type": "markdown",
   "id": "013739fb-1d2b-403d-8899-d1201367b165",
   "metadata": {},
   "source": [
    "# Q5.What is method overriding in python? Write a python code to demonstrate method overridi\n",
    "\n"
   ]
  },
  {
   "cell_type": "markdown",
   "id": "afc4f69a-738b-49fa-aa3b-8de1d4ba0ec7",
   "metadata": {},
   "source": [
    "# Method overriding occurs when a subclass provides a specific implementation of a method that is already provided by its parent class. Here's an example:"
   ]
  },
  {
   "cell_type": "code",
   "execution_count": 8,
   "id": "2edb6bcb-b4b7-4bc7-b336-749b48885549",
   "metadata": {},
   "outputs": [
    {
     "name": "stdout",
     "output_type": "stream",
     "text": [
      "Child's show method\n"
     ]
    }
   ],
   "source": [
    "#answers-5 \n",
    "class Parent:\n",
    "    def show(self):\n",
    "        print(\"Parent's show method\")\n",
    "\n",
    "\n",
    "class Child(Parent):\n",
    "    def show(self):\n",
    "        print(\"Child's show method\")\n",
    "\n",
    "\n",
    "obj = Child()\n",
    "obj.show()  # Output: Child's show method\n"
   ]
  }
 ],
 "metadata": {
  "kernelspec": {
   "display_name": "Python 3 (ipykernel)",
   "language": "python",
   "name": "python3"
  },
  "language_info": {
   "codemirror_mode": {
    "name": "ipython",
    "version": 3
   },
   "file_extension": ".py",
   "mimetype": "text/x-python",
   "name": "python",
   "nbconvert_exporter": "python",
   "pygments_lexer": "ipython3",
   "version": "3.10.8"
  }
 },
 "nbformat": 4,
 "nbformat_minor": 5
}
